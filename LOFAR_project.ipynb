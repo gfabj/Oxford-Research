{
 "cells": [
  {
   "cell_type": "code",
   "execution_count": 1,
   "metadata": {
    "collapsed": true
   },
   "outputs": [],
   "source": [
    "import numpy as np\n",
    "import matplotlib.pyplot as plt\n",
    "import pandas as pd\n",
    "import astropy\n",
    "%matplotlib inline\n",
    "import pylab\n",
    "from numpy import array, pi\n",
    "from astropy.io import fits"
   ]
  },
  {
   "cell_type": "code",
   "execution_count": 2,
   "metadata": {
    "collapsed": true
   },
   "outputs": [],
   "source": [
    "import warnings\n",
    "warnings.filterwarnings(\"ignore\")"
   ]
  },
  {
   "cell_type": "code",
   "execution_count": 3,
   "metadata": {
    "collapsed": false
   },
   "outputs": [],
   "source": [
    "from astropy.table import Table\n",
    "t = Table.read('LOFAR2.fits', format='fits')"
   ]
  },
  {
   "cell_type": "code",
   "execution_count": 4,
   "metadata": {
    "collapsed": false
   },
   "outputs": [
    {
     "name": "stdout",
     "output_type": "stream",
     "text": [
      "     Source_Name           Total_flux     ...        z_best      \n",
      "---------------------- ------------------ ... -------------------\n",
      "ILTJ104327.95+521032.6 0.5841184590020289 ...              0.6157\n",
      "ILTJ104330.98+515535.8  2.233776166523432 ...              1.0181\n",
      "ILTJ104332.52+515259.6 0.9024277866188777 ...              0.5481\n",
      "ILTJ104333.37+520010.8 0.5899020578887203 ...  0.4662609100341797\n",
      "ILTJ104341.17+514713.0 0.6132727376440176 ...               0.485\n",
      "ILTJ104341.64+522025.7  42.75226347356401 ...              0.7929\n",
      "ILTJ104342.09+521137.2 1.1169500581605294 ... 0.44418030977249146\n",
      "ILTJ104342.94+514316.7 0.5127128820681194 ...              0.2586\n",
      "ILTJ104344.59+521703.6 0.3935423232298475 ...              0.5362\n",
      "ILTJ104345.35+523239.2 2.9488830743857526 ...              0.2335\n",
      "                   ...                ... ...                 ...\n",
      "ILTJ152321.22+521306.1 1.6301366464419211 ...   2.094599962234497\n",
      "ILTJ152324.56+532102.0   3.66562697410943 ...              0.2279\n",
      "ILTJ152330.98+522515.6  4.924289209766216 ...  0.0273390281945467\n",
      "ILTJ152335.95+531107.0  5.322722591565828 ...              0.4707\n",
      "ILTJ152339.27+523708.9  4.878154280748534 ...  0.3174222409725189\n",
      "ILTJ152339.74+522542.8 2.3470774740100593 ...              0.4377\n",
      "ILTJ152341.84+530758.0 382.43937633021415 ...              1.2214\n",
      "ILTJ152347.37+522059.9 1.5016997025423027 ...              1.0418\n",
      "ILTJ152352.92+520519.2  6.708002260539033 ...   1.184999942779541\n",
      "ILTJ152421.19+524259.9  35.21517027485378 ...               0.982\n",
      "ILTJ152422.42+521220.1  1.980110376527822 ...              0.2325\n",
      "Length = 161996 rows\n"
     ]
    }
   ],
   "source": [
    "print(t)"
   ]
  },
  {
   "cell_type": "code",
   "execution_count": 5,
   "metadata": {
    "collapsed": false
   },
   "outputs": [],
   "source": [
    "hdul = fits.open('LOFAR2.fits')\n",
    "data = hdul[1].data\n",
    "flux_tot = data.field('Total_flux') # Obtain the total flux column \n",
    "z = data.field('z_best') # Obtain redshift column\n",
    "Flux_22 = data.field('w4Flux') # Obtain 22 microns flux"
   ]
  },
  {
   "cell_type": "code",
   "execution_count": 6,
   "metadata": {
    "collapsed": false
   },
   "outputs": [],
   "source": [
    "#Import package in order to get the function for Luminosity\n",
    "\n",
    "from astropy.cosmology import FlatLambdaCDM\n",
    "import astropy.units as u\n",
    "cosmo = FlatLambdaCDM(H0=70 * u.km / u.s / u.Mpc, Tcmb0=2.725 * u.K, Om0=0.3)"
   ]
  },
  {
   "cell_type": "code",
   "execution_count": 7,
   "metadata": {
    "collapsed": false
   },
   "outputs": [],
   "source": [
    "# Luminosity Distance\n",
    "Lum_d22 = array(cosmo.luminosity_distance([Flux_22])*3.08567758e24) ### Last number converts it into cm\n",
    "Lum_d = array(cosmo.luminosity_distance([flux_tot])*3.08567758e24) ### Last number converts it into cm"
   ]
  },
  {
   "cell_type": "code",
   "execution_count": 82,
   "metadata": {
    "collapsed": false
   },
   "outputs": [],
   "source": [
    "# Luminosity based on redshift and distance\n",
    "def power(d,f,z):\n",
    "    P = (4*pi*(d)**2*f*1e-20/(1+z))\n",
    "    return P\n",
    "Pw22 = array(power(Lum_d,Flux_22,z))\n",
    "Pw = array(power(Lum_d,flux_tot,z)*(1+z)**(-0.7))"
   ]
  },
  {
   "cell_type": "code",
   "execution_count": 83,
   "metadata": {
    "collapsed": false
   },
   "outputs": [],
   "source": [
    "adj = np.where(Pw22>=4e43)\n",
    "Pw_adj = array((Pw22[adj]))"
   ]
  },
  {
   "cell_type": "code",
   "execution_count": 84,
   "metadata": {
    "collapsed": false
   },
   "outputs": [
    {
     "data": {
      "text/plain": [
       "array([1.02557631e+45, 5.10909548e+43, 2.25055443e+48, ...,\n",
       "       1.87238443e+45, 3.67131885e+45, 1.29148785e+44])"
      ]
     },
     "execution_count": 84,
     "metadata": {},
     "output_type": "execute_result"
    }
   ],
   "source": [
    "Pw_adj"
   ]
  },
  {
   "cell_type": "code",
   "execution_count": 111,
   "metadata": {
    "collapsed": false,
    "scrolled": true
   },
   "outputs": [
    {
     "data": {
      "image/png": "[encoded data removed]",
      "text/plain": [
       "<Figure size 432x288 with 1 Axes>"
      ]
     },
     "metadata": {},
     "output_type": "display_data"
    }
   ],
   "source": [
    "plt.scatter(Pw,Pw22, c= 'b')\n",
    "plt.xlim(1e37,1.5e49)\n",
    "plt.ylim(1e37,0.3e50)\n",
    "plt.show()"
   ]
  },
  {
   "cell_type": "code",
   "execution_count": 22,
   "metadata": {
    "collapsed": false
   },
   "outputs": [
    {
     "data": {
      "image/png": "[encoded data removed]",
      "text/plain": [
       "<Figure size 432x288 with 1 Axes>"
      ]
     },
     "metadata": {},
     "output_type": "display_data"
    }
   ],
   "source": [
    "import plotly.plotly as py\n",
    "# Learn about API authentication here: https://plot.ly/python/getting-started\n",
    "# Find your api_key here: https://plot.ly/settings/api\n",
    "\n",
    "\n",
    "plt.hist(Pw_adj, weights=Pw_adj , color = \"lightcoral\")\n",
    "plt.title(\"Mid IR Power\")\n",
    "plt.xlabel(\"Value\")\n",
    "plt.ylabel(\"Frequency\")\n",
    "rwidth=20\n",
    "plt.xlim(0,0.2e52)\n",
    "fig = plt.gcf()"
   ]
  },
  {
   "cell_type": "code",
   "execution_count": 24,
   "metadata": {
    "collapsed": false,
    "scrolled": true
   },
   "outputs": [
    {
     "data": {
      "text/plain": [
       "9.750199401433609e+50"
      ]
     },
     "execution_count": 24,
     "metadata": {},
     "output_type": "execute_result"
    }
   ],
   "source": [
    "np.amax(Pw_adj, axis=0) # Print max value"
   ]
  }
 ],
 "metadata": {
  "kernelspec": {
   "display_name": "Python 3",
   "language": "python",
   "name": "python3"
  },
  "language_info": {
   "codemirror_mode": {
    "name": "ipython",
    "version": 3
   },
   "file_extension": ".py",
   "mimetype": "text/x-python",
   "name": "python",
   "nbconvert_exporter": "python",
   "pygments_lexer": "ipython3",
   "version": "3.6.5"
  }
 },
 "nbformat": 4,
 "nbformat_minor": 2
}
