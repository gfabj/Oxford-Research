{
 "cells": [
  {
   "cell_type": "code",
   "execution_count": 4,
   "metadata": {
    "collapsed": true
   },
   "outputs": [],
   "source": [
    "import numpy as np\n",
    "import matplotlib.pyplot as plt\n",
    "import pandas as pd\n",
    "import astropy\n",
    "%matplotlib inline\n",
    "import pylab\n",
    "from numpy import array, pi\n",
    "from astropy.io import fits"
   ]
  },
  {
   "cell_type": "code",
   "execution_count": 5,
   "metadata": {
    "collapsed": false
   },
   "outputs": [],
   "source": [
    "from astropy.table import Table\n",
    "t = Table.read('LOFAR2.fits', format='fits')"
   ]
  },
  {
   "cell_type": "code",
   "execution_count": 6,
   "metadata": {
    "collapsed": false
   },
   "outputs": [
    {
     "name": "stdout",
     "output_type": "stream",
     "text": [
      "     Source_Name            Total_flux     ...        z_best      \n",
      "---------------------- ------------------- ... -------------------\n",
      "ILTJ104327.95+521032.6  0.5841184590020289 ...              0.6157\n",
      "ILTJ104330.98+515535.8   2.233776166523432 ...              1.0181\n",
      "ILTJ104332.52+515259.6  0.9024277866188777 ...              0.5481\n",
      "ILTJ104333.37+520010.8  0.5899020578887203 ...  0.4662609100341797\n",
      "ILTJ104341.17+514713.0  0.6132727376440176 ...               0.485\n",
      "ILTJ104341.64+522025.7   42.75226347356401 ...              0.7929\n",
      "ILTJ104342.09+521137.2  1.1169500581605294 ... 0.44418030977249146\n",
      "ILTJ104342.94+514316.7  0.5127128820681194 ...              0.2586\n",
      "ILTJ104345.35+523239.2  2.9488830743857526 ...              0.2335\n",
      "ILTJ104346.26+521856.8 0.43031970452588736 ...              1.0163\n",
      "                   ...                 ... ...                 ...\n",
      "ILTJ152321.22+521306.1  1.6301366464419211 ...   2.094599962234497\n",
      "ILTJ152324.56+532102.0    3.66562697410943 ...              0.2279\n",
      "ILTJ152330.98+522515.6   4.924289209766216 ...  0.0273390281945467\n",
      "ILTJ152335.95+531107.0   5.322722591565828 ...              0.4707\n",
      "ILTJ152339.27+523708.9   4.878154280748534 ...  0.3174222409725189\n",
      "ILTJ152339.74+522542.8  2.3470774740100593 ...              0.4377\n",
      "ILTJ152341.84+530758.0  382.43937633021415 ...              1.2214\n",
      "ILTJ152347.37+522059.9  1.5016997025423027 ...              1.0418\n",
      "ILTJ152352.92+520519.2   6.708002260539033 ...   1.184999942779541\n",
      "ILTJ152421.19+524259.9   35.21517027485378 ...               0.982\n",
      "ILTJ152422.42+521220.1   1.980110376527822 ...              0.2325\n",
      "Length = 158138 rows\n"
     ]
    }
   ],
   "source": [
    "print(t)"
   ]
  },
  {
   "cell_type": "code",
   "execution_count": 7,
   "metadata": {
    "collapsed": false
   },
   "outputs": [],
   "source": [
    "hdul = fits.open('LOFAR2.fits')\n",
    "data = hdul[1].data\n",
    "flux_tot = data.field('Total_flux') # Obtain the total flux column \n",
    "z = data.field('z_best') # Obtain redshift column"
   ]
  },
  {
   "cell_type": "code",
   "execution_count": 49,
   "metadata": {
    "collapsed": false
   },
   "outputs": [],
   "source": [
    "#Import package in order to get the function for Luminosity\n",
    "\n",
    "from astropy.cosmology import FlatLambdaCDM\n",
    "import astropy.units as u\n",
    "cosmo = FlatLambdaCDM(H0=70 * u.km / u.s / u.Mpc, Tcmb0=2.725 * u.K, Om0=0.3)"
   ]
  },
  {
   "cell_type": "code",
   "execution_count": 50,
   "metadata": {
    "collapsed": false
   },
   "outputs": [],
   "source": [
    "# Luminosity Distance\n",
    "Lum_d = cosmo.luminosity_distance(flux_tot)*3.08567758e24 "
   ]
  },
  {
   "cell_type": "code",
   "execution_count": 51,
   "metadata": {
    "collapsed": false
   },
   "outputs": [],
   "source": [
    "# Luminosity based on redshift and distance\n",
    "def power(d,f,z):\n",
    "    P = (4*pi*(d)**2*f*1e-20/(1+z))\n",
    "    return P\n",
    "Pw = power(Lum_d,flux_tot,z)"
   ]
  },
  {
   "cell_type": "code",
   "execution_count": 54,
   "metadata": {
    "collapsed": false
   },
   "outputs": [],
   "source": [
    "Pw_adj = filter(lambda x: x >= 4e43, Pw)"
   ]
  },
  {
   "cell_type": "code",
   "execution_count": 56,
   "metadata": {
    "collapsed": false
   },
   "outputs": [
    {
     "ename": "AttributeError",
     "evalue": "'filter' object has no attribute 'shape'",
     "output_type": "error",
     "traceback": [
      "\u001b[0;31m---------------------------------------------------------------------------\u001b[0m",
      "\u001b[0;31mAttributeError\u001b[0m                            Traceback (most recent call last)",
      "\u001b[0;32m<ipython-input-56-f248afb33b1e>\u001b[0m in \u001b[0;36m<module>\u001b[0;34m()\u001b[0m\n\u001b[0;32m----> 1\u001b[0;31m \u001b[0mPw_adj\u001b[0m\u001b[0;34m.\u001b[0m\u001b[0mshape\u001b[0m\u001b[0;34m\u001b[0m\u001b[0m\n\u001b[0m",
      "\u001b[0;31mAttributeError\u001b[0m: 'filter' object has no attribute 'shape'"
     ]
    }
   ],
   "source": []
  },
  {
   "cell_type": "code",
   "execution_count": null,
   "metadata": {
    "collapsed": true
   },
   "outputs": [],
   "source": []
  }
 ],
 "metadata": {
  "kernelspec": {
   "display_name": "Python 3",
   "language": "python",
   "name": "python3"
  },
  "language_info": {
   "codemirror_mode": {
    "name": "ipython",
    "version": 3
   },
   "file_extension": ".py",
   "mimetype": "text/x-python",
   "name": "python",
   "nbconvert_exporter": "python",
   "pygments_lexer": "ipython3",
   "version": "3.6.5"
  }
 },
 "nbformat": 4,
 "nbformat_minor": 2
}
