{
 "cells": [
  {
   "cell_type": "code",
   "execution_count": 1,
   "metadata": {
    "collapsed": true
   },
   "outputs": [],
   "source": [
    "import numpy as np\n",
    "import matplotlib.pyplot as plt\n",
    "import pandas as pd\n",
    "import astropy\n",
    "from matplotlib import pylab, cm\n",
    "%matplotlib inline\n",
    "import pylab\n",
    "from numpy import array, pi,linspace\n",
    "from astropy.io import fits\n",
    "import math\n",
    "from math import log"
   ]
  },
  {
   "cell_type": "code",
   "execution_count": 2,
   "metadata": {
    "collapsed": true
   },
   "outputs": [],
   "source": [
    "import warnings\n",
    "warnings.filterwarnings(\"ignore\")"
   ]
  },
  {
   "cell_type": "code",
   "execution_count": 3,
   "metadata": {
    "collapsed": true
   },
   "outputs": [],
   "source": [
    "from astropy.table import Table\n",
    "t = Table.read('L_S.fits', format='fits')"
   ]
  },
  {
   "cell_type": "code",
   "execution_count": 4,
   "metadata": {
    "collapsed": true
   },
   "outputs": [],
   "source": [
    "hdul = fits.open('L_S.fits')\n",
    "data = hdul[1].data\n",
    "flux_tot = data.field('Total_flux') # Obtain the total flux column \n",
    "z = data.field('z_best') # Obtain redshift column\n",
    "Flux_22 = data.field('w4Flux') # Obtain 22 microns flux\n",
    "Flux_g = data.field('gFApflux') # Obtain flux for g band"
   ]
  },
  {
   "cell_type": "code",
   "execution_count": 5,
   "metadata": {
    "collapsed": true
   },
   "outputs": [],
   "source": [
    "#Import package in order to get the function for Luminosity\n",
    "\n",
    "from astropy.cosmology import FlatLambdaCDM\n",
    "import astropy.units as u\n",
    "cosmo = FlatLambdaCDM(H0=70 * u.km / u.s / u.Mpc, Tcmb0=2.725 * u.K, Om0=0.3)"
   ]
  },
  {
   "cell_type": "code",
   "execution_count": 6,
   "metadata": {
    "collapsed": true
   },
   "outputs": [],
   "source": [
    "Lum_d22 = array(cosmo.luminosity_distance([Flux_22])*3.08567758e24) ### Last number converts it into cm\n",
    "Lum_d = array(cosmo.luminosity_distance([flux_tot])*3.08567758e24) ### Last number converts it into cm\n",
    "Lum_dG = array(cosmo.luminosity_distance([Flux_g])*3.08567758e24) ### Last number converts it into cm"
   ]
  },
  {
   "cell_type": "code",
   "execution_count": 7,
   "metadata": {
    "collapsed": true
   },
   "outputs": [],
   "source": [
    "# Luminosity based on redshift and distance\n",
    "def power(d,f,z):\n",
    "    P = (4*pi*(d)**2*f*1e-26/(1+z))\n",
    "    return P\n",
    "Pw22 = (power(Lum_d22,Flux_22,z))\n",
    "Pw = (power(Lum_d,flux_tot,z)*(1+z)**(-0.7))\n",
    "Pw_g  = (power(Lum_dG,Flux_g,z))"
   ]
  },
  {
   "cell_type": "code",
   "execution_count": 8,
   "metadata": {
    "collapsed": true
   },
   "outputs": [],
   "source": [
    "adj = np.where(Pw22>=4e43)\n",
    "Pw_adj = array((Pw22[adj])) # This is the luminosity at 22 microns\n",
    "Pw_adj1 = array((Pw[adj])) # This is the luminosity at 151 MHz\n",
    "Pw_g_H = array((Pw_g[adj])) # Optical luminosity >> This is the one to use to distinguish H & L"
   ]
  },
  {
   "cell_type": "code",
   "execution_count": 9,
   "metadata": {
    "collapsed": true
   },
   "outputs": [],
   "source": [
    "## Convert erg to J >>> WHz^-1\n",
    "L_low_f = Pw_adj1*1e-7\n",
    "L_mid_IR = Pw_adj*1e-7\n",
    "L_opti = Pw_g_H*1e-7"
   ]
  },
  {
   "cell_type": "code",
   "execution_count": 10,
   "metadata": {
    "collapsed": false
   },
   "outputs": [
    {
     "data": {
      "image/png": "[encoded data removed]",
      "text/plain": [
       "<Figure size 432x288 with 1 Axes>"
      ]
     },
     "metadata": {},
     "output_type": "display_data"
    }
   ],
   "source": [
    "import plotly.plotly as py\n",
    "\n",
    "b= np.log10(L_opti)\n",
    "\n",
    "plt.hist(b, color= \"navy\", bins = 50, fill = False)\n",
    "plt.title(\"Luminosity distribution\", fontsize = 20)\n",
    "plt.xlabel(\"Log (L Optical)\", fontsize= 18)\n",
    "plt.ylabel(\"Frequency\", fontsize = 18)\n",
    "#plt.xscale('log')\n",
    "rwidth=10\n",
    "fig = plt.gcf()"
   ]
  },
  {
   "cell_type": "code",
   "execution_count": null,
   "metadata": {
    "collapsed": true
   },
   "outputs": [],
   "source": []
  }
 ],
 "metadata": {
  "kernelspec": {
   "display_name": "Python 3",
   "language": "python",
   "name": "python3"
  },
  "language_info": {
   "codemirror_mode": {
    "name": "ipython",
    "version": 3
   },
   "file_extension": ".py",
   "mimetype": "text/x-python",
   "name": "python",
   "nbconvert_exporter": "python",
   "pygments_lexer": "ipython3",
   "version": "3.6.5"
  }
 },
 "nbformat": 4,
 "nbformat_minor": 2
}
