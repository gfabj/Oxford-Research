{
 "cells": [
  {
   "cell_type": "code",
   "execution_count": 5,
   "metadata": {
    "collapsed": true
   },
   "outputs": [],
   "source": [
    "import numpy as np\n",
    "import matplotlib.pyplot as plt\n",
    "import scipy.optimize as opt\n",
    "%matplotlib inline\n",
    "\n",
    "#Required python modules for this exercize"
   ]
  },
  {
   "cell_type": "code",
   "execution_count": 6,
   "metadata": {
    "collapsed": false
   },
   "outputs": [
    {
     "data": {
      "text/plain": [
       "array([-4.        , -3.91919192, -3.83838384, -3.75757576, -3.67676768,\n",
       "       -3.5959596 , -3.51515152, -3.43434343, -3.35353535, -3.27272727,\n",
       "       -3.19191919, -3.11111111, -3.03030303, -2.94949495, -2.86868687,\n",
       "       -2.78787879, -2.70707071, -2.62626263, -2.54545455, -2.46464646,\n",
       "       -2.38383838, -2.3030303 , -2.22222222, -2.14141414, -2.06060606,\n",
       "       -1.97979798, -1.8989899 , -1.81818182, -1.73737374, -1.65656566,\n",
       "       -1.57575758, -1.49494949, -1.41414141, -1.33333333, -1.25252525,\n",
       "       -1.17171717, -1.09090909, -1.01010101, -0.92929293, -0.84848485,\n",
       "       -0.76767677, -0.68686869, -0.60606061, -0.52525253, -0.44444444,\n",
       "       -0.36363636, -0.28282828, -0.2020202 , -0.12121212, -0.04040404,\n",
       "        0.04040404,  0.12121212,  0.2020202 ,  0.28282828,  0.36363636,\n",
       "        0.44444444,  0.52525253,  0.60606061,  0.68686869,  0.76767677,\n",
       "        0.84848485,  0.92929293,  1.01010101,  1.09090909,  1.17171717,\n",
       "        1.25252525,  1.33333333,  1.41414141,  1.49494949,  1.57575758,\n",
       "        1.65656566,  1.73737374,  1.81818182,  1.8989899 ,  1.97979798,\n",
       "        2.06060606,  2.14141414,  2.22222222,  2.3030303 ,  2.38383838,\n",
       "        2.46464646,  2.54545455,  2.62626263,  2.70707071,  2.78787879,\n",
       "        2.86868687,  2.94949495,  3.03030303,  3.11111111,  3.19191919,\n",
       "        3.27272727,  3.35353535,  3.43434343,  3.51515152,  3.5959596 ,\n",
       "        3.67676768,  3.75757576,  3.83838384,  3.91919192,  4.        ])"
      ]
     },
     "execution_count": 6,
     "metadata": {},
     "output_type": "execute_result"
    }
   ],
   "source": [
    "x=np.linspace(-4,4,100) # Range of x values\n",
    "x"
   ]
  },
  {
   "cell_type": "code",
   "execution_count": 7,
   "metadata": {
    "collapsed": true
   },
   "outputs": [],
   "source": [
    "ε_0 = 8.854187817e-12\n",
    "const = 1/(4*np.pi*ε_0)"
   ]
  },
  {
   "cell_type": "code",
   "execution_count": 8,
   "metadata": {
    "collapsed": true
   },
   "outputs": [],
   "source": [
    "### Breakdown of the electric field equation\n",
    "\n",
    "ya = ((x+1)/(2*x+17)**(1.5)) \n",
    "yb = ((x-1)/(-2*x+17)**(1.5))\n",
    "yc = 1/((2*x+17)**(1.5))\n",
    "yd = 1/((-2*x+17)**(1.5))"
   ]
  },
  {
   "cell_type": "code",
   "execution_count": 9,
   "metadata": {
    "collapsed": true
   },
   "outputs": [],
   "source": [
    "### Complete equation for electric field\n",
    "E = const*((ya+yb)**2+((16-x**2)*(yc+yd)**2))**(0.5)"
   ]
  },
  {
   "cell_type": "code",
   "execution_count": 10,
   "metadata": {
    "collapsed": false
   },
   "outputs": [
    {
     "data": {
      "image/png": "[encoded data removed]",
      "text/plain": [
       "<Figure size 720x360 with 1 Axes>"
      ]
     },
     "metadata": {},
     "output_type": "display_data"
    }
   ],
   "source": [
    "plt.figure(figsize=(10,5))\n",
    "plt.plot(x,E,'r--',c='mediumvioletred',)\n",
    "plt.xlabel('x',fontsize=18)\n",
    "plt.ylabel('y',fontsize=18)\n",
    "plt.title('Electric Field vs. Position',fontsize=20)\n",
    "plt.show()"
   ]
  },
  {
   "cell_type": "code",
   "execution_count": 13,
   "metadata": {
    "collapsed": true
   },
   "outputs": [],
   "source": [
    "def E_mag(x):\n",
    "    ya = ((x+1)/(2*x+17)**(1.5))\n",
    "    yb = ((x-1)/(-2*x+17)**(1.5))\n",
    "    yc = 1/((2*x+17)**(1.5))\n",
    "    yd = 1/((-2*x+17)**(1.5))\n",
    "    \n",
    "    return const*((ya+yb)**2+((16-x**2)*(yc+yd)**2))**(0.5)"
   ]
  },
  {
   "cell_type": "code",
   "execution_count": 16,
   "metadata": {
    "collapsed": false
   },
   "outputs": [
    {
     "name": "stdout",
     "output_type": "stream",
     "text": [
      "Optimization terminated successfully.\n",
      "         Current function value: 1025788936.681640\n",
      "         Iterations: 8\n",
      "         Function evaluations: 16\n"
     ]
    },
    {
     "data": {
      "text/plain": [
       "array([0.])"
      ]
     },
     "execution_count": 16,
     "metadata": {},
     "output_type": "execute_result"
    }
   ],
   "source": [
    "opt.fmin(lambda x: E_mag(x), 0)"
   ]
  },
  {
   "cell_type": "code",
   "execution_count": null,
   "metadata": {
    "collapsed": true
   },
   "outputs": [],
   "source": []
  }
 ],
 "metadata": {
  "kernelspec": {
   "display_name": "Python 3",
   "language": "python",
   "name": "python3"
  },
  "language_info": {
   "codemirror_mode": {
    "name": "ipython",
    "version": 3
   },
   "file_extension": ".py",
   "mimetype": "text/x-python",
   "name": "python",
   "nbconvert_exporter": "python",
   "pygments_lexer": "ipython3",
   "version": "3.6.5"
  }
 },
 "nbformat": 4,
 "nbformat_minor": 2
}
